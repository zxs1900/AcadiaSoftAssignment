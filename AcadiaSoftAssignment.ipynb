{
 "cells": [
  {
   "cell_type": "markdown",
   "metadata": {},
   "source": [
    "# Black-Schole-Merton option pricing model"
   ]
  },
  {
   "cell_type": "markdown",
   "metadata": {},
   "source": [
    "This is the BSM model to price european call and put options, and equity forward contract, with continously paid dividend."
   ]
  },
  {
   "cell_type": "markdown",
   "metadata": {},
   "source": [
    "## Table of Contents"
   ]
  },
  {
   "cell_type": "markdown",
   "metadata": {},
   "source": [
    "#### 1.BSM model to price European call and put options with dividend\n",
    "#### 2. Equity forward contract pricing model with dividend\n",
    "#### 3. Delta  and Gamma\n",
    "#### 4. Example Calculation\n",
    "#### 5. Call option of 2 indexes"
   ]
  },
  {
   "cell_type": "code",
   "execution_count": 103,
   "metadata": {},
   "outputs": [],
   "source": [
    "import math\n",
    "from scipy.stats import norm"
   ]
  },
  {
   "cell_type": "markdown",
   "metadata": {},
   "source": [
    "### 1.BSM model to price European call and put options with dividend"
   ]
  },
  {
   "cell_type": "code",
   "execution_count": 104,
   "metadata": {},
   "outputs": [],
   "source": [
    "#############################################################################\n",
    "##### This function is intended to calculate price of European options, #####\n",
    "##### which the dividend yield is a contant rate, ###########################\n",
    "#####interest rate is countinously compounded. ##############################\n",
    "#############################################################################\n",
    "\n",
    "#########################################\n",
    "##### optionType = 'call' or 'put' ######\n",
    "##### S ,T ,K ,r ,q ,vol as float  ######\n",
    "#########################################\n",
    "\n",
    "def pricingOptionByBSM(optionType,S,T,K,r,q,vol): \n",
    "        \n",
    "    d1 = (math.log(S / K) + (r - q + vol ** 2 / 2) * T) / (vol * math.sqrt(T))\n",
    "    d2 = d1 - vol * math.sqrt(T)\n",
    "    if optionType == 'call':\n",
    "        return S * math.exp(- q * T) * norm.cdf(d1) - K * math.exp(- r * T) * norm.cdf(d2)\n",
    "    elif optionType == 'put':\n",
    "        return K * math.exp(- r * T) * norm.cdf(- d2) - S * math.exp(- q * T) * norm.cdf(- d1)\n",
    "    else:\n",
    "        print('Invalid option type')\n",
    "        return None\n",
    "        \n",
    "########################################################\n",
    "##### This function implements the put-call parity #####\n",
    "##### to validate the option pricing model above.  #####\n",
    "########################################################\n",
    "        \n",
    "def validateByPutCallParity(call,put,S,y,T,K,r):\n",
    "    \n",
    "    leftSide = call + K * math.exp(- r * T)\n",
    "    rightSide = put + S * math.exp(- y * T)\n",
    "    if round(leftSide,4) == round(rightSide,4):\n",
    "        return 'satisfied'\n",
    "    return 'not sarisfied'   "
   ]
  },
  {
   "cell_type": "markdown",
   "metadata": {},
   "source": [
    "### 2. Equity forward contract pricing model with dividend"
   ]
  },
  {
   "cell_type": "code",
   "execution_count": 105,
   "metadata": {},
   "outputs": [],
   "source": [
    "##################################################################\n",
    "##### This function calculates the equity forward contract. ######\n",
    "##################################################################\n",
    "\n",
    "def pricingForward(S,T,K,r,q):\n",
    "\n",
    "    return K * math.exp(- q * T) - S * math.exp((r - q) * T) * math.exp(- r * T)"
   ]
  },
  {
   "cell_type": "markdown",
   "metadata": {},
   "source": [
    "### 3. Delta  and Gamma"
   ]
  },
  {
   "cell_type": "code",
   "execution_count": 106,
   "metadata": {},
   "outputs": [],
   "source": [
    "#################################################################\n",
    "##### This function calculates the delta of European option #####\n",
    "#################################################################\n",
    "\n",
    "def calculateDelta(optionType,S,T,K,r,q,vol):\n",
    "    \n",
    "    d1 = (math.log(S / K) + (r - q + vol ** 2 / 2) * T) / (vol * math.sqrt(T))\n",
    "    if optionType == 'call':\n",
    "        return math.exp(- q * T) * norm.cdf(d1)\n",
    "    elif optionType == 'put':\n",
    "        return - math.exp(- q * T) * norm.cdf(- d1)\n",
    "    else:\n",
    "        print('invalid option type')\n",
    "        return None\n",
    "    \n",
    "#################################################################\n",
    "##### This function calculates the gamma of European option #####\n",
    "#################################################################\n",
    "    \n",
    "def calculateGamma(optionType,S,T,K,r,q,vol):\n",
    "    \n",
    "    d1 = (math.log(S / K) + (r - q + vol ** 2 / 2) * T) / (vol * math.sqrt(T))\n",
    "    if optionType == 'call' or optionType == 'put':\n",
    "        return (math.exp(- q * T) * norm.pdf(d1)) / (S * vol * math.sqrt(T))\n",
    "    print('invalid option type')\n",
    "    return None"
   ]
  },
  {
   "cell_type": "markdown",
   "metadata": {},
   "source": [
    "### 4. Example Calculation"
   ]
  },
  {
   "cell_type": "code",
   "execution_count": 107,
   "metadata": {},
   "outputs": [
    {
     "name": "stdout",
     "output_type": "stream",
     "text": [
      "The call price is: 123.14347522330763.\n",
      "The put price is: 264.6188867913115.\n",
      "The value of the forward contract is: 139.58062937047225.\n",
      "Put call parity: satisfied.\n",
      "The Delta of this put option is -0.5937498062939109.\n",
      "The Gamma of this put option is 0.0008443446032102217.\n"
     ]
    }
   ],
   "source": [
    "#Input example data\n",
    "\n",
    "S = 3660 # spot price\n",
    "T = 3/12 # time to maturity\n",
    "K = 3800 # strike price\n",
    "r = 0.01 # interest rate\n",
    "q = 0.012 # dividend yield\n",
    "vol = 0.25 # volatility\n",
    "\n",
    "#call price\n",
    "\n",
    "callPrice = pricingOptionByBSM('call',S,T,K,r,q,vol)\n",
    "print(f\"The call price is: {callPrice}.\")\n",
    "\n",
    "#put price\n",
    "\n",
    "putPrice = pricingOptionByBSM('put',S,T,K,r,q,vol)\n",
    "print(f\"The put price is: {putPrice}.\")\n",
    "\n",
    "#forward price\n",
    "\n",
    "forwardValue = pricingForward(S,T,K,r,q)\n",
    "print(f\"The value of the forward contract is: {forward}.\")\n",
    "\n",
    "#put-call parity\n",
    "\n",
    "putcallparity = validateByPutCallParity(callPrice,putPrice,S,q,T,K,r)\n",
    "print(f\"Put call parity: {putcallparity}.\")\n",
    "\n",
    "#put option delta\n",
    "\n",
    "delta = calculateDelta('put',S,T,K,r,q,vol)\n",
    "print(f\"The Delta of this put option is {delta}.\")\n",
    "\n",
    "\n",
    "#put option gamma\n",
    "\n",
    "gamma = calculateGamma('put',S,T,K,r,q,vol)\n",
    "print(f\"The Gamma of this put option is {gamma}.\")\n"
   ]
  },
  {
   "cell_type": "markdown",
   "metadata": {},
   "source": [
    "### 5. Call option of 2 indexes"
   ]
  },
  {
   "cell_type": "markdown",
   "metadata": {},
   "source": [
    "To calculate the price of a basket option where the underlying assets are S&P 500 and FTSE 100, there are multiple methods available. In order to eliminate the confusion of using different parameters for different methods, the Longstaff-Schwartz model would be sepcified, we need: \n",
    "\n",
    "                -weight of investment in S&P 500 and FTSE 100 separately,\n",
    "                -spot price of the underlying assets, \n",
    "                -strike price of the call option, \n",
    "                -time to maturity,\n",
    "                -annual volatilities of each asset, \n",
    "                -correlations between S&P 500 and FTSE 100, \n",
    "                -risk free interest rate,\n",
    "                -number of simulation periods\n",
    "                -number of trials"
   ]
  }
 ],
 "metadata": {
  "kernelspec": {
   "display_name": "Python 3",
   "language": "python",
   "name": "python3"
  },
  "language_info": {
   "codemirror_mode": {
    "name": "ipython",
    "version": 3
   },
   "file_extension": ".py",
   "mimetype": "text/x-python",
   "name": "python",
   "nbconvert_exporter": "python",
   "pygments_lexer": "ipython3",
   "version": "3.8.5"
  }
 },
 "nbformat": 4,
 "nbformat_minor": 4
}
